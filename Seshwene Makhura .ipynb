{
 "cells": [
  {
   "cell_type": "markdown",
   "id": "f77220ee",
   "metadata": {},
   "source": [
    "South African Language Identification Hack 2023: EA language classification hackathon : Seshwene Makhura "
   ]
  },
  {
   "cell_type": "markdown",
   "id": "3d25d72a",
   "metadata": {},
   "source": [
    "South Africa is a multicultural society that is characterised by its rich linguistic diversity. Language is an indispensable tool that can be used to deepen democracy and also contribute to the social, cultural, intellectual, economic and political life of the South African society.\n",
    "\n",
    "The country is multilingual with 11 official languages, each of which is guaranteed equal status. Most South Africans are multilingual and able to speak at least two or more of the official languages.\n",
    "\n",
    "South Africa is a multicultural society that is characterised by its rich linguistic diversity. Language is an indispensable tool that can be used to deepen democracy and also contribute to the social, cultural, intellectual, economic and political life of the South African society.\n",
    "\n",
    "The country is multilingual with 11 official languages, each of which is guaranteed equal status. Most South Africans are multilingual and able to speak at least two or more of the official languages.\n",
    "\n",
    "With such a multilingual population, it is only obvious that our systems and devices also communicate in multi-languages.\n",
    "\n",
    "In this challenge, you will take text which is in any of South Africa's 11 Official languages and identify which language the text is in. This is an example of NLP's Language Identification, the task of determining the natural language that a piece of text is written in."
   ]
  },
  {
   "cell_type": "code",
   "execution_count": 68,
   "id": "5600b8aa",
   "metadata": {},
   "outputs": [],
   "source": [
    "import numpy as np \n",
    "import pandas as pd \n",
    "import matplotlib.pyplot as plt\n",
    "import seaborn as sns"
   ]
  },
  {
   "cell_type": "code",
   "execution_count": 69,
   "id": "e889b95b",
   "metadata": {},
   "outputs": [],
   "source": [
    "# load the data\n",
    "df = pd.read_csv('train_set.csv')"
   ]
  },
  {
   "cell_type": "markdown",
   "id": "93cbd5ab",
   "metadata": {},
   "source": [
    "# Exploring the training dataset"
   ]
  },
  {
   "cell_type": "code",
   "execution_count": 70,
   "id": "16a02d8c",
   "metadata": {},
   "outputs": [
    {
     "data": {
      "text/html": [
       "<div>\n",
       "<style scoped>\n",
       "    .dataframe tbody tr th:only-of-type {\n",
       "        vertical-align: middle;\n",
       "    }\n",
       "\n",
       "    .dataframe tbody tr th {\n",
       "        vertical-align: top;\n",
       "    }\n",
       "\n",
       "    .dataframe thead th {\n",
       "        text-align: right;\n",
       "    }\n",
       "</style>\n",
       "<table border=\"1\" class=\"dataframe\">\n",
       "  <thead>\n",
       "    <tr style=\"text-align: right;\">\n",
       "      <th></th>\n",
       "      <th>lang_id</th>\n",
       "      <th>text</th>\n",
       "    </tr>\n",
       "  </thead>\n",
       "  <tbody>\n",
       "    <tr>\n",
       "      <th>0</th>\n",
       "      <td>xho</td>\n",
       "      <td>umgaqo-siseko wenza amalungiselelo kumaziko ax...</td>\n",
       "    </tr>\n",
       "    <tr>\n",
       "      <th>1</th>\n",
       "      <td>xho</td>\n",
       "      <td>i-dha iya kuba nobulumko bokubeka umsebenzi na...</td>\n",
       "    </tr>\n",
       "    <tr>\n",
       "      <th>2</th>\n",
       "      <td>eng</td>\n",
       "      <td>the province of kwazulu-natal department of tr...</td>\n",
       "    </tr>\n",
       "    <tr>\n",
       "      <th>3</th>\n",
       "      <td>nso</td>\n",
       "      <td>o netefatša gore o ba file dilo ka moka tše le...</td>\n",
       "    </tr>\n",
       "    <tr>\n",
       "      <th>4</th>\n",
       "      <td>ven</td>\n",
       "      <td>khomishini ya ndinganyiso ya mbeu yo ewa maana...</td>\n",
       "    </tr>\n",
       "  </tbody>\n",
       "</table>\n",
       "</div>"
      ],
      "text/plain": [
       "  lang_id                                               text\n",
       "0     xho  umgaqo-siseko wenza amalungiselelo kumaziko ax...\n",
       "1     xho  i-dha iya kuba nobulumko bokubeka umsebenzi na...\n",
       "2     eng  the province of kwazulu-natal department of tr...\n",
       "3     nso  o netefatša gore o ba file dilo ka moka tše le...\n",
       "4     ven  khomishini ya ndinganyiso ya mbeu yo ewa maana..."
      ]
     },
     "execution_count": 70,
     "metadata": {},
     "output_type": "execute_result"
    }
   ],
   "source": [
    "df.head()"
   ]
  },
  {
   "cell_type": "code",
   "execution_count": 71,
   "id": "1c9e218f",
   "metadata": {},
   "outputs": [
    {
     "data": {
      "text/html": [
       "<div>\n",
       "<style scoped>\n",
       "    .dataframe tbody tr th:only-of-type {\n",
       "        vertical-align: middle;\n",
       "    }\n",
       "\n",
       "    .dataframe tbody tr th {\n",
       "        vertical-align: top;\n",
       "    }\n",
       "\n",
       "    .dataframe thead th {\n",
       "        text-align: right;\n",
       "    }\n",
       "</style>\n",
       "<table border=\"1\" class=\"dataframe\">\n",
       "  <thead>\n",
       "    <tr style=\"text-align: right;\">\n",
       "      <th></th>\n",
       "      <th>lang_id</th>\n",
       "      <th>text</th>\n",
       "    </tr>\n",
       "  </thead>\n",
       "  <tbody>\n",
       "    <tr>\n",
       "      <th>7666</th>\n",
       "      <td>tso</td>\n",
       "      <td>munhu loyi a komberiwaku ku nyiketa nothisi u ...</td>\n",
       "    </tr>\n",
       "    <tr>\n",
       "      <th>16483</th>\n",
       "      <td>afr</td>\n",
       "      <td>die doel van hierdie projek is om ontwikkelend...</td>\n",
       "    </tr>\n",
       "    <tr>\n",
       "      <th>24785</th>\n",
       "      <td>zul</td>\n",
       "      <td>ukuphakamisa isiqubulo iphalamende elinakekela...</td>\n",
       "    </tr>\n",
       "    <tr>\n",
       "      <th>32174</th>\n",
       "      <td>ssw</td>\n",
       "      <td>a mengameli atawukhipha nobe nguliphi lilunga ...</td>\n",
       "    </tr>\n",
       "    <tr>\n",
       "      <th>5862</th>\n",
       "      <td>afr</td>\n",
       "      <td>of sy bevind het dat die tendens betreffende d...</td>\n",
       "    </tr>\n",
       "  </tbody>\n",
       "</table>\n",
       "</div>"
      ],
      "text/plain": [
       "      lang_id                                               text\n",
       "7666      tso  munhu loyi a komberiwaku ku nyiketa nothisi u ...\n",
       "16483     afr  die doel van hierdie projek is om ontwikkelend...\n",
       "24785     zul  ukuphakamisa isiqubulo iphalamende elinakekela...\n",
       "32174     ssw  a mengameli atawukhipha nobe nguliphi lilunga ...\n",
       "5862      afr  of sy bevind het dat die tendens betreffende d..."
      ]
     },
     "execution_count": 71,
     "metadata": {},
     "output_type": "execute_result"
    }
   ],
   "source": [
    "df.sample(5)"
   ]
  },
  {
   "cell_type": "code",
   "execution_count": 72,
   "id": "312e9124",
   "metadata": {},
   "outputs": [
    {
     "data": {
      "text/plain": [
       "(33000, 2)"
      ]
     },
     "execution_count": 72,
     "metadata": {},
     "output_type": "execute_result"
    }
   ],
   "source": [
    "# Shape of the dataset\n",
    "df.shape"
   ]
  },
  {
   "cell_type": "markdown",
   "id": "49fd6d5f",
   "metadata": {},
   "source": [
    "Training dataset comprises of 33000 rows with 2 columns"
   ]
  },
  {
   "cell_type": "code",
   "execution_count": 73,
   "id": "a49152b1",
   "metadata": {},
   "outputs": [
    {
     "name": "stdout",
     "output_type": "stream",
     "text": [
      "<class 'pandas.core.frame.DataFrame'>\n",
      "RangeIndex: 33000 entries, 0 to 32999\n",
      "Data columns (total 2 columns):\n",
      " #   Column   Non-Null Count  Dtype \n",
      "---  ------   --------------  ----- \n",
      " 0   lang_id  33000 non-null  object\n",
      " 1   text     33000 non-null  object\n",
      "dtypes: object(2)\n",
      "memory usage: 515.8+ KB\n"
     ]
    }
   ],
   "source": [
    "df.info()         # dtype object meaning Categorical dataset"
   ]
  },
  {
   "cell_type": "code",
   "execution_count": 74,
   "id": "1b58375f",
   "metadata": {},
   "outputs": [
    {
     "data": {
      "text/plain": [
       "<bound method NDFrame.describe of       lang_id                                               text\n",
       "0         xho  umgaqo-siseko wenza amalungiselelo kumaziko ax...\n",
       "1         xho  i-dha iya kuba nobulumko bokubeka umsebenzi na...\n",
       "2         eng  the province of kwazulu-natal department of tr...\n",
       "3         nso  o netefatša gore o ba file dilo ka moka tše le...\n",
       "4         ven  khomishini ya ndinganyiso ya mbeu yo ewa maana...\n",
       "...       ...                                                ...\n",
       "32995     tsn  popo ya dipolateforomo tse ke go tlisa boetele...\n",
       "32996     sot  modise mosadi na o ntse o sa utlwe hore thaban...\n",
       "32997     eng  closing date for the submission of completed t...\n",
       "32998     xho  nawuphina umntu ofunyenwe enetyala phantsi kwa...\n",
       "32999     sot  mafapha a mang le ona a lokela ho etsa ditlale...\n",
       "\n",
       "[33000 rows x 2 columns]>"
      ]
     },
     "execution_count": 74,
     "metadata": {},
     "output_type": "execute_result"
    }
   ],
   "source": [
    "df.describe"
   ]
  },
  {
   "cell_type": "code",
   "execution_count": 75,
   "id": "5d58664e",
   "metadata": {},
   "outputs": [
    {
     "data": {
      "text/plain": [
       "lang_id    0\n",
       "text       0\n",
       "dtype: int64"
      ]
     },
     "execution_count": 75,
     "metadata": {},
     "output_type": "execute_result"
    }
   ],
   "source": [
    "df.isnull().sum()"
   ]
  },
  {
   "cell_type": "markdown",
   "id": "527df406",
   "metadata": {},
   "source": [
    "# Data Cleaning"
   ]
  },
  {
   "cell_type": "code",
   "execution_count": 76,
   "id": "1e18b5c7",
   "metadata": {},
   "outputs": [],
   "source": [
    "# to avoid possible contamination of the dataset, we will make a copy of the dataset\n",
    "df_clean = df          "
   ]
  },
  {
   "cell_type": "code",
   "execution_count": 77,
   "id": "cb894fb5",
   "metadata": {},
   "outputs": [
    {
     "data": {
      "text/html": [
       "<div>\n",
       "<style scoped>\n",
       "    .dataframe tbody tr th:only-of-type {\n",
       "        vertical-align: middle;\n",
       "    }\n",
       "\n",
       "    .dataframe tbody tr th {\n",
       "        vertical-align: top;\n",
       "    }\n",
       "\n",
       "    .dataframe thead th {\n",
       "        text-align: right;\n",
       "    }\n",
       "</style>\n",
       "<table border=\"1\" class=\"dataframe\">\n",
       "  <thead>\n",
       "    <tr style=\"text-align: right;\">\n",
       "      <th></th>\n",
       "      <th>lang_id</th>\n",
       "      <th>text</th>\n",
       "    </tr>\n",
       "  </thead>\n",
       "  <tbody>\n",
       "    <tr>\n",
       "      <th>0</th>\n",
       "      <td>xho</td>\n",
       "      <td>umgaqo-siseko wenza amalungiselelo kumaziko ax...</td>\n",
       "    </tr>\n",
       "    <tr>\n",
       "      <th>1</th>\n",
       "      <td>xho</td>\n",
       "      <td>i-dha iya kuba nobulumko bokubeka umsebenzi na...</td>\n",
       "    </tr>\n",
       "    <tr>\n",
       "      <th>2</th>\n",
       "      <td>eng</td>\n",
       "      <td>the province of kwazulu-natal department of tr...</td>\n",
       "    </tr>\n",
       "    <tr>\n",
       "      <th>3</th>\n",
       "      <td>nso</td>\n",
       "      <td>o netefatša gore o ba file dilo ka moka tše le...</td>\n",
       "    </tr>\n",
       "    <tr>\n",
       "      <th>4</th>\n",
       "      <td>ven</td>\n",
       "      <td>khomishini ya ndinganyiso ya mbeu yo ewa maana...</td>\n",
       "    </tr>\n",
       "  </tbody>\n",
       "</table>\n",
       "</div>"
      ],
      "text/plain": [
       "  lang_id                                               text\n",
       "0     xho  umgaqo-siseko wenza amalungiselelo kumaziko ax...\n",
       "1     xho  i-dha iya kuba nobulumko bokubeka umsebenzi na...\n",
       "2     eng  the province of kwazulu-natal department of tr...\n",
       "3     nso  o netefatša gore o ba file dilo ka moka tše le...\n",
       "4     ven  khomishini ya ndinganyiso ya mbeu yo ewa maana..."
      ]
     },
     "execution_count": 77,
     "metadata": {},
     "output_type": "execute_result"
    }
   ],
   "source": [
    "df_clean.head()           # confirming "
   ]
  },
  {
   "cell_type": "code",
   "execution_count": 78,
   "id": "4e21f4d0",
   "metadata": {},
   "outputs": [
    {
     "data": {
      "text/plain": [
       "lang_id    0\n",
       "text       0\n",
       "dtype: int64"
      ]
     },
     "execution_count": 78,
     "metadata": {},
     "output_type": "execute_result"
    }
   ],
   "source": [
    "# checking for Null spaces\n",
    "df_clean.isnull().sum()"
   ]
  },
  {
   "cell_type": "markdown",
   "id": "2debcfa1",
   "metadata": {},
   "source": [
    "no null spaces in the dataset"
   ]
  },
  {
   "cell_type": "code",
   "execution_count": 79,
   "id": "5815a78b",
   "metadata": {},
   "outputs": [
    {
     "data": {
      "text/plain": [
       "3052"
      ]
     },
     "execution_count": 79,
     "metadata": {},
     "output_type": "execute_result"
    }
   ],
   "source": [
    " # Check for Duplicated Values\n",
    "\n",
    "df_clean.duplicated().sum()"
   ]
  },
  {
   "cell_type": "code",
   "execution_count": 80,
   "id": "2cfbcf2a",
   "metadata": {},
   "outputs": [
    {
     "data": {
      "text/plain": [
       "0"
      ]
     },
     "execution_count": 80,
     "metadata": {},
     "output_type": "execute_result"
    }
   ],
   "source": [
    "# Remove Duplicates\n",
    "\n",
    "df_clean = df_clean.drop_duplicates(keep='first')\n",
    "df_clean.duplicated().sum()"
   ]
  },
  {
   "cell_type": "code",
   "execution_count": 81,
   "id": "77b41921",
   "metadata": {},
   "outputs": [
    {
     "data": {
      "text/plain": [
       "(29948, 2)"
      ]
     },
     "execution_count": 81,
     "metadata": {},
     "output_type": "execute_result"
    }
   ],
   "source": [
    "df_clean.shape"
   ]
  },
  {
   "cell_type": "markdown",
   "id": "2f77c841",
   "metadata": {},
   "source": [
    "29948 rows of text and 2 columns in the dataset"
   ]
  },
  {
   "cell_type": "markdown",
   "id": "6c5728c5",
   "metadata": {},
   "source": [
    "# EDA"
   ]
  },
  {
   "cell_type": "code",
   "execution_count": 82,
   "id": "9d4cca7e",
   "metadata": {},
   "outputs": [
    {
     "name": "stderr",
     "output_type": "stream",
     "text": [
      "C:\\Users\\makhs9\\AppData\\Local\\Temp\\ipykernel_20456\\914199287.py:2: SettingWithCopyWarning: \n",
      "A value is trying to be set on a copy of a slice from a DataFrame.\n",
      "Try using .loc[row_indexer,col_indexer] = value instead\n",
      "\n",
      "See the caveats in the documentation: https://pandas.pydata.org/pandas-docs/stable/user_guide/indexing.html#returning-a-view-versus-a-copy\n",
      "  df_clean['text_lower'] = df_clean['text'].str.lower()\n"
     ]
    }
   ],
   "source": [
    "# transform all the text to lowercase\n",
    "df_clean['text_lower'] = df_clean['text'].str.lower()\n"
   ]
  },
  {
   "cell_type": "code",
   "execution_count": 83,
   "id": "5a3912ec",
   "metadata": {},
   "outputs": [
    {
     "data": {
      "image/png": "[encoded data removed]",
      "text/plain": [
       "<Figure size 640x480 with 1 Axes>"
      ]
     },
     "metadata": {},
     "output_type": "display_data"
    }
   ],
   "source": [
    "# distribution of language identification labels\n",
    "sns.countplot(data=df_clean, x='lang_id')\n",
    "plt.title('Distribution of Language Identification Labels')\n",
    "plt.xlabel('Language')\n",
    "plt.ylabel('Count')\n",
    "plt.show()"
   ]
  },
  {
   "cell_type": "markdown",
   "id": "71631fe9",
   "metadata": {},
   "source": [
    "The count shows that the distribution of each language identification is evenly distributed.\n",
    "Character/text length will not be a good distinguishing factor amongst the different languages.\n"
   ]
  },
  {
   "cell_type": "code",
   "execution_count": 84,
   "id": "4d1e81f0",
   "metadata": {},
   "outputs": [
    {
     "data": {
      "image/png": "[encoded data removed]",
      "text/plain": [
       "<Figure size 800x600 with 1 Axes>"
      ]
     },
     "metadata": {},
     "output_type": "display_data"
    }
   ],
   "source": [
    "#frequency of each language identification\n",
    "language_counts = df_clean['lang_id'].value_counts()\n",
    "\n",
    "#language labels and their counts\n",
    "languages = language_counts.index.tolist()\n",
    "counts = language_counts.values.tolist()\n",
    "\n",
    "plt.figure(figsize=(8, 6))\n",
    "plt.pie(counts, labels=languages, autopct='%1.1f%%', startangle=90)\n",
    "plt.title('Language Identification Distribution')\n",
    "plt.axis('equal')\n",
    "plt.show()"
   ]
  },
  {
   "cell_type": "markdown",
   "id": "26aee14f",
   "metadata": {},
   "source": [
    "The language identification distribution shows that the dataset is evenly distributed across the different South African languages. this implies that there is no imbalances on the dataset and the model will be trained more or less equally across the 11 languages."
   ]
  },
  {
   "cell_type": "code",
   "execution_count": 85,
   "id": "f60ff3e4",
   "metadata": {},
   "outputs": [
    {
     "name": "stderr",
     "output_type": "stream",
     "text": [
      "C:\\Users\\makhs9\\AppData\\Local\\Temp\\ipykernel_20456\\1957810322.py:2: SettingWithCopyWarning: \n",
      "A value is trying to be set on a copy of a slice from a DataFrame.\n",
      "Try using .loc[row_indexer,col_indexer] = value instead\n",
      "\n",
      "See the caveats in the documentation: https://pandas.pydata.org/pandas-docs/stable/user_guide/indexing.html#returning-a-view-versus-a-copy\n",
      "  df_clean['Text Length'] = df_clean['text_lower'].apply(lambda x: len(x.split()))\n"
     ]
    },
    {
     "data": {
      "image/png": "[encoded data removed]",
      "text/plain": [
       "<Figure size 640x480 with 1 Axes>"
      ]
     },
     "metadata": {},
     "output_type": "display_data"
    }
   ],
   "source": [
    "# distribution of text lengths\n",
    "df_clean['Text Length'] = df_clean['text_lower'].apply(lambda x: len(x.split()))\n",
    "plt.hist(df_clean['Text Length'], bins=20)\n",
    "plt.title('Distribution of Text Lengths')\n",
    "plt.xlabel('Text Length')\n",
    "plt.ylabel('Count')\n",
    "plt.show()"
   ]
  },
  {
   "cell_type": "code",
   "execution_count": 86,
   "id": "198eccee",
   "metadata": {},
   "outputs": [
    {
     "data": {
      "text/html": [
       "<div>\n",
       "<style scoped>\n",
       "    .dataframe tbody tr th:only-of-type {\n",
       "        vertical-align: middle;\n",
       "    }\n",
       "\n",
       "    .dataframe tbody tr th {\n",
       "        vertical-align: top;\n",
       "    }\n",
       "\n",
       "    .dataframe thead th {\n",
       "        text-align: right;\n",
       "    }\n",
       "</style>\n",
       "<table border=\"1\" class=\"dataframe\">\n",
       "  <thead>\n",
       "    <tr style=\"text-align: right;\">\n",
       "      <th></th>\n",
       "      <th>lang_id</th>\n",
       "      <th>text</th>\n",
       "      <th>text_lower</th>\n",
       "      <th>Text Length</th>\n",
       "    </tr>\n",
       "  </thead>\n",
       "  <tbody>\n",
       "    <tr>\n",
       "      <th>11041</th>\n",
       "      <td>tso</td>\n",
       "      <td>ku lavisisa swivilelo leswi swi humaka swi ta ...</td>\n",
       "      <td>ku lavisisa swivilelo leswi swi humaka swi ta ...</td>\n",
       "      <td>47</td>\n",
       "    </tr>\n",
       "    <tr>\n",
       "      <th>7873</th>\n",
       "      <td>ssw</td>\n",
       "      <td>uma ngabe kukhushulwa imiholo loku kufanele ku...</td>\n",
       "      <td>uma ngabe kukhushulwa imiholo loku kufanele ku...</td>\n",
       "      <td>25</td>\n",
       "    </tr>\n",
       "    <tr>\n",
       "      <th>29331</th>\n",
       "      <td>ven</td>\n",
       "      <td>zwihavhane na zwihali wa mulayo wa vhu wa kana...</td>\n",
       "      <td>zwihavhane na zwihali wa mulayo wa vhu wa kana...</td>\n",
       "      <td>39</td>\n",
       "    </tr>\n",
       "    <tr>\n",
       "      <th>20275</th>\n",
       "      <td>xho</td>\n",
       "      <td>i-bt sisishunqulelo sentsholongwane eyibhaktir...</td>\n",
       "      <td>i-bt sisishunqulelo sentsholongwane eyibhaktir...</td>\n",
       "      <td>19</td>\n",
       "    </tr>\n",
       "    <tr>\n",
       "      <th>6619</th>\n",
       "      <td>eng</td>\n",
       "      <td>everyone in south africa is encouraged from in...</td>\n",
       "      <td>everyone in south africa is encouraged from in...</td>\n",
       "      <td>43</td>\n",
       "    </tr>\n",
       "    <tr>\n",
       "      <th>16332</th>\n",
       "      <td>sot</td>\n",
       "      <td>maikutlo a tshebetso ya basebetsi le moya o mo...</td>\n",
       "      <td>maikutlo a tshebetso ya basebetsi le moya o mo...</td>\n",
       "      <td>52</td>\n",
       "    </tr>\n",
       "    <tr>\n",
       "      <th>20252</th>\n",
       "      <td>afr</td>\n",
       "      <td>agb minister in regsterme sê ons dis contradic...</td>\n",
       "      <td>agb minister in regsterme sê ons dis contradic...</td>\n",
       "      <td>49</td>\n",
       "    </tr>\n",
       "  </tbody>\n",
       "</table>\n",
       "</div>"
      ],
      "text/plain": [
       "      lang_id                                               text  \\\n",
       "11041     tso  ku lavisisa swivilelo leswi swi humaka swi ta ...   \n",
       "7873      ssw  uma ngabe kukhushulwa imiholo loku kufanele ku...   \n",
       "29331     ven  zwihavhane na zwihali wa mulayo wa vhu wa kana...   \n",
       "20275     xho  i-bt sisishunqulelo sentsholongwane eyibhaktir...   \n",
       "6619      eng  everyone in south africa is encouraged from in...   \n",
       "16332     sot  maikutlo a tshebetso ya basebetsi le moya o mo...   \n",
       "20252     afr  agb minister in regsterme sê ons dis contradic...   \n",
       "\n",
       "                                              text_lower  Text Length  \n",
       "11041  ku lavisisa swivilelo leswi swi humaka swi ta ...           47  \n",
       "7873   uma ngabe kukhushulwa imiholo loku kufanele ku...           25  \n",
       "29331  zwihavhane na zwihali wa mulayo wa vhu wa kana...           39  \n",
       "20275  i-bt sisishunqulelo sentsholongwane eyibhaktir...           19  \n",
       "6619   everyone in south africa is encouraged from in...           43  \n",
       "16332  maikutlo a tshebetso ya basebetsi le moya o mo...           52  \n",
       "20252  agb minister in regsterme sê ons dis contradic...           49  "
      ]
     },
     "execution_count": 86,
     "metadata": {},
     "output_type": "execute_result"
    }
   ],
   "source": [
    "df_clean.sample(7)"
   ]
  },
  {
   "cell_type": "markdown",
   "id": "7bbf40bb",
   "metadata": {},
   "source": [
    "The distribution is skewing to the right, meaning there are ouliers in that direction. this implies that there are texts which have more than usual (average) texts length\n",
    "\n",
    "There is no normality(non-symmetrical) in the distribution which is to be expected since this are different random texts in different South African languages.\n",
    "\n",
    "The mode and median of the length of the text is between 35-45 characters in length. a second mode (bi-modal) almost appears at around 25 text length.  "
   ]
  },
  {
   "cell_type": "code",
   "execution_count": 87,
   "id": "63d97054",
   "metadata": {},
   "outputs": [
    {
     "name": "stderr",
     "output_type": "stream",
     "text": [
      "C:\\Users\\makhs9\\AppData\\Local\\Temp\\ipykernel_20456\\2015193072.py:14: SettingWithCopyWarning: \n",
      "A value is trying to be set on a copy of a slice from a DataFrame.\n",
      "Try using .loc[row_indexer,col_indexer] = value instead\n",
      "\n",
      "See the caveats in the documentation: https://pandas.pydata.org/pandas-docs/stable/user_guide/indexing.html#returning-a-view-versus-a-copy\n",
      "  df_clean['lang_id_encoded'] = encoded_labels\n"
     ]
    }
   ],
   "source": [
    "from sklearn.preprocessing import LabelEncoder\n",
    "\n",
    "# Assuming you have a DataFrame called 'df' with a column named 'lang_id'\n",
    "# Access the 'lang_id' column and convert it into a list\n",
    "lang_id_list = df_clean['lang_id'].tolist()\n",
    "\n",
    "# Create an instance of LabelEncoder\n",
    "label_encoder = LabelEncoder()\n",
    "\n",
    "# Fit the label encoder on the lang_id labels and transform them into numbers\n",
    "encoded_labels = label_encoder.fit_transform(lang_id_list)\n",
    "\n",
    "# Add the encoded labels as a new column in the DataFrame\n",
    "df_clean['lang_id_encoded'] = encoded_labels\n"
   ]
  },
  {
   "cell_type": "code",
   "execution_count": 88,
   "id": "25ca1f63",
   "metadata": {},
   "outputs": [
    {
     "data": {
      "text/html": [
       "<div>\n",
       "<style scoped>\n",
       "    .dataframe tbody tr th:only-of-type {\n",
       "        vertical-align: middle;\n",
       "    }\n",
       "\n",
       "    .dataframe tbody tr th {\n",
       "        vertical-align: top;\n",
       "    }\n",
       "\n",
       "    .dataframe thead th {\n",
       "        text-align: right;\n",
       "    }\n",
       "</style>\n",
       "<table border=\"1\" class=\"dataframe\">\n",
       "  <thead>\n",
       "    <tr style=\"text-align: right;\">\n",
       "      <th></th>\n",
       "      <th>lang_id</th>\n",
       "      <th>text</th>\n",
       "      <th>text_lower</th>\n",
       "      <th>Text Length</th>\n",
       "      <th>lang_id_encoded</th>\n",
       "    </tr>\n",
       "  </thead>\n",
       "  <tbody>\n",
       "    <tr>\n",
       "      <th>2545</th>\n",
       "      <td>nso</td>\n",
       "      <td>i pukwana ya bosepedi ya batho ba bagolo ii pu...</td>\n",
       "      <td>i pukwana ya bosepedi ya batho ba bagolo ii pu...</td>\n",
       "      <td>39</td>\n",
       "      <td>3</td>\n",
       "    </tr>\n",
       "    <tr>\n",
       "      <th>233</th>\n",
       "      <td>nso</td>\n",
       "      <td>dinyakišišo di bontšha gore kago ya dintlo le ...</td>\n",
       "      <td>dinyakišišo di bontšha gore kago ya dintlo le ...</td>\n",
       "      <td>46</td>\n",
       "      <td>3</td>\n",
       "    </tr>\n",
       "  </tbody>\n",
       "</table>\n",
       "</div>"
      ],
      "text/plain": [
       "     lang_id                                               text  \\\n",
       "2545     nso  i pukwana ya bosepedi ya batho ba bagolo ii pu...   \n",
       "233      nso  dinyakišišo di bontšha gore kago ya dintlo le ...   \n",
       "\n",
       "                                             text_lower  Text Length  \\\n",
       "2545  i pukwana ya bosepedi ya batho ba bagolo ii pu...           39   \n",
       "233   dinyakišišo di bontšha gore kago ya dintlo le ...           46   \n",
       "\n",
       "      lang_id_encoded  \n",
       "2545                3  \n",
       "233                 3  "
      ]
     },
     "execution_count": 88,
     "metadata": {},
     "output_type": "execute_result"
    }
   ],
   "source": [
    "df_clean.sample(2)"
   ]
  },
  {
   "cell_type": "markdown",
   "id": "9239dc70",
   "metadata": {},
   "source": [
    "# Modelling"
   ]
  },
  {
   "cell_type": "code",
   "execution_count": 89,
   "id": "f7cac3b3",
   "metadata": {},
   "outputs": [],
   "source": [
    "from sklearn.feature_extraction.text import TfidfVectorizer\n",
    "from sklearn.naive_bayes import MultinomialNB\n",
    "from sklearn.linear_model import LogisticRegression\n",
    "from sklearn.model_selection import train_test_split\n",
    "from sklearn.metrics import accuracy_score\n",
    "from sklearn.metrics import accuracy_score, classification_report\n",
    "from sklearn.feature_extraction.text import TfidfVectorizer\n",
    "tf = TfidfVectorizer(max_features=3000)\n",
    "from sklearn.svm import SVC\n",
    "from sklearn.metrics import f1_score"
   ]
  },
  {
   "cell_type": "code",
   "execution_count": 90,
   "id": "a09a1aef",
   "metadata": {},
   "outputs": [
    {
     "data": {
      "text/plain": [
       "array([[0., 0., 0., ..., 0., 0., 0.],\n",
       "       [0., 0., 0., ..., 0., 0., 0.],\n",
       "       [0., 0., 0., ..., 0., 0., 0.],\n",
       "       ...,\n",
       "       [0., 0., 0., ..., 0., 0., 0.],\n",
       "       [0., 0., 0., ..., 0., 0., 0.],\n",
       "       [0., 0., 0., ..., 0., 0., 0.]])"
      ]
     },
     "execution_count": 90,
     "metadata": {},
     "output_type": "execute_result"
    }
   ],
   "source": [
    "X = tf.fit_transform(df_clean['text_lower']).toarray()\n",
    "\n",
    "X         "
   ]
  },
  {
   "cell_type": "code",
   "execution_count": 91,
   "id": "84b0b1d1",
   "metadata": {},
   "outputs": [
    {
     "data": {
      "text/plain": [
       "array([9, 9, 1, ..., 1, 9, 4], dtype=int64)"
      ]
     },
     "execution_count": 91,
     "metadata": {},
     "output_type": "execute_result"
    }
   ],
   "source": [
    "y = np.array(df_clean['lang_id_encoded'])\n",
    "\n",
    "y"
   ]
  },
  {
   "cell_type": "code",
   "execution_count": 92,
   "id": "8fd4278e",
   "metadata": {},
   "outputs": [],
   "source": [
    "# Splitting the data into train and test set\n",
    "from sklearn.model_selection import train_test_split\n",
    "X_train,X_test,y_train,y_test = train_test_split(X,y,random_state=42,test_size=0.20)"
   ]
  },
  {
   "cell_type": "code",
   "execution_count": 93,
   "id": "cbc1a967",
   "metadata": {},
   "outputs": [],
   "source": [
    "#models to evaluate and defining them\n",
    "nb= MultinomialNB()\n",
    "svm = SVC()\n",
    "lr = LogisticRegression()"
   ]
  },
  {
   "cell_type": "code",
   "execution_count": 94,
   "id": "8bbc1a7e",
   "metadata": {},
   "outputs": [
    {
     "name": "stdout",
     "output_type": "stream",
     "text": [
      "Naive Bayes Accuracy: 0.9901495926272205\n",
      "              precision    recall  f1-score   support\n",
      "\n",
      "           0       1.00      1.00      1.00      2641\n",
      "           1       0.99      1.00      1.00      2998\n",
      "           2       0.99      0.96      0.97      2362\n",
      "           3       1.00      1.00      1.00      2873\n",
      "           4       1.00      1.00      1.00      2833\n",
      "           5       0.99      0.97      0.98      2426\n",
      "           6       1.00      1.00      1.00      2869\n",
      "           7       1.00      1.00      1.00      2758\n",
      "           8       1.00      1.00      1.00      2605\n",
      "           9       0.98      0.98      0.98      2659\n",
      "          10       0.95      0.98      0.96      2924\n",
      "\n",
      "    accuracy                           0.99     29948\n",
      "   macro avg       0.99      0.99      0.99     29948\n",
      "weighted avg       0.99      0.99      0.99     29948\n",
      "\n"
     ]
    }
   ],
   "source": [
    "# the Naive Bayes model\n",
    "nb = MultinomialNB()\n",
    "nb.fit(X, y)\n",
    "\n",
    "# Make predictions\n",
    "y_pred = nb.predict(X)\n",
    "\n",
    "# Naive Bayes perfomance\n",
    "accuracy = accuracy_score(y, y_pred)\n",
    "print(\"Naive Bayes Accuracy:\", accuracy)\n",
    "print(classification_report(y, y_pred))"
   ]
  },
  {
   "cell_type": "code",
   "execution_count": 95,
   "id": "4c9f4563",
   "metadata": {},
   "outputs": [
    {
     "data": {
      "text/plain": [
       "['model_weights.pkl']"
      ]
     },
     "execution_count": 95,
     "metadata": {},
     "output_type": "execute_result"
    }
   ],
   "source": [
    "import joblib\n",
    "\n",
    "# Save the model weights to a file\n",
    "nb_weight = 'model_weights.pkl'\n",
    "joblib.dump(nb, nb_weight)\n"
   ]
  },
  {
   "cell_type": "code",
   "execution_count": 96,
   "id": "f28beec4",
   "metadata": {},
   "outputs": [],
   "source": [
    "loaded_model = joblib.load(nb_weight)"
   ]
  },
  {
   "cell_type": "markdown",
   "id": "5612b17d",
   "metadata": {},
   "source": [
    " THE SVM MODEL"
   ]
  },
  {
   "cell_type": "code",
   "execution_count": 97,
   "id": "5bbd7592",
   "metadata": {},
   "outputs": [],
   "source": [
    "# Splitting the data into train and test sets\n",
    "X_train, X_test, y_train, y_test = train_test_split(X, y, test_size=0.2, random_state=42)"
   ]
  },
  {
   "cell_type": "code",
   "execution_count": null,
   "id": "9b6c074f",
   "metadata": {},
   "outputs": [],
   "source": [
    "#SVM model\n",
    "svm = SVC()\n",
    "svm.fit(X, y)\n",
    "\n",
    "# predictions\n",
    "y_pred = svm.predict(X)\n",
    "\n",
    "# model perfomance\n",
    "accuracy = accuracy_score(y, y_pred)\n",
    "print(\"SVM_Accuracy:\", accuracy)\n",
    "print(classification_report(y, y_pred))"
   ]
  },
  {
   "cell_type": "code",
   "execution_count": null,
   "id": "1d6f8e5a",
   "metadata": {},
   "outputs": [],
   "source": [
    "print(y_pred)"
   ]
  },
  {
   "cell_type": "code",
   "execution_count": null,
   "id": "ea59a7cf",
   "metadata": {},
   "outputs": [],
   "source": [
    "from sklearn.linear_model import LogisticRegression\n",
    "from sklearn.feature_extraction.text import TfidfVectorizer\n",
    "from sklearn.model_selection import train_test_split\n",
    "from sklearn.metrics import accuracy_score\n",
    "from sklearn.metrics import accuracy_score, classification_report"
   ]
  },
  {
   "cell_type": "code",
   "execution_count": null,
   "id": "9b4e8dba",
   "metadata": {},
   "outputs": [],
   "source": [
    "# Splitting the data into train and test sets\n",
    "X_train, X_test, y_train, y_test = train_test_split(X, y, test_size=0.2, random_state=42)"
   ]
  },
  {
   "cell_type": "code",
   "execution_count": null,
   "id": "1bb931e8",
   "metadata": {},
   "outputs": [],
   "source": [
    "#Logistic regression model\n",
    "lr = LogisticRegression()\n",
    "lr.fit(X, y)\n",
    "\n",
    "#make predictions\n",
    "y_pred = lr.predict(X)\n",
    "\n",
    "# model perfomance\n",
    "accuracy = accuracy_score(y, y_pred)\n",
    "print(\"lr_Accuracy:\", accuracy)\n",
    "print(classification_report(y, y_pred))"
   ]
  },
  {
   "cell_type": "markdown",
   "id": "df60766d",
   "metadata": {},
   "source": [
    "# Model validation"
   ]
  },
  {
   "cell_type": "code",
   "execution_count": null,
   "id": "cb5d6020",
   "metadata": {},
   "outputs": [],
   "source": [
    "from sklearn.feature_extraction.text import CountVectorizer\n",
    "from sklearn.naive_bayes import MultinomialNB\n",
    "from sklearn.model_selection import cross_val_score, KFold\n",
    "\n",
    "# Assuming you have your features stored in X_test and labels in y_test\n",
    "\n",
    "# number of folds\n",
    "k = 5\n",
    "\n",
    "# Create a KFold object\n",
    "kf = KFold(n_splits=k, shuffle=True, random_state=42)\n",
    "\n",
    "# Cross-validation for Naive Bayes\n",
    "nb_scores = cross_val_score(nb, X, y, cv=kf, scoring='accuracy')\n",
    "nb_precision_scores = cross_val_score(nb, X, y, cv=kf, scoring='precision')\n",
    "naive_bayes_recall_scores = cross_val_score(nb, X, y, cv=kf, scoring='recall')\n",
    "naive_bayes_f1_scores = cross_val_score(naive_bayes, X, y, cv=kf, scoring='f1')\n",
    "\n",
    "# Print the mean accuracy score\n",
    "print(\"naive bayes Mean Precision:\", nb_precision_scores.mean())\n",
    "print(\"naive bayes Mean Recall:\", nb_recall_scores.mean())\n",
    "print(\"naive bayes Mean F1 Score:\", nb_f1_scores.mean())\n",
    "print(\"Naive Bayes Mean Accuracy:\", nb_scores.mean())"
   ]
  },
  {
   "cell_type": "code",
   "execution_count": null,
   "id": "64df6839",
   "metadata": {},
   "outputs": [],
   "source": []
  },
  {
   "cell_type": "markdown",
   "id": "59ad36e4",
   "metadata": {},
   "source": [
    "# Model Perfomance"
   ]
  },
  {
   "cell_type": "code",
   "execution_count": null,
   "id": "307ebb06",
   "metadata": {},
   "outputs": [],
   "source": [
    "#load testing data\n",
    "test = pd.read_csv('test_set.csv')"
   ]
  },
  {
   "cell_type": "code",
   "execution_count": null,
   "id": "d1e7ff20",
   "metadata": {},
   "outputs": [],
   "source": [
    "test.head()"
   ]
  },
  {
   "cell_type": "code",
   "execution_count": null,
   "id": "76f30ff1",
   "metadata": {},
   "outputs": [],
   "source": [
    "test.shape"
   ]
  },
  {
   "cell_type": "code",
   "execution_count": null,
   "id": "3b2bfac9",
   "metadata": {},
   "outputs": [],
   "source": [
    "test.sample(10)"
   ]
  },
  {
   "cell_type": "markdown",
   "id": "6f504f14",
   "metadata": {},
   "source": [
    "# Data cleaning"
   ]
  },
  {
   "cell_type": "code",
   "execution_count": null,
   "id": "fc2ecc18",
   "metadata": {},
   "outputs": [],
   "source": [
    "#checking for Null\n",
    "test.isnull().sum()"
   ]
  },
  {
   "cell_type": "code",
   "execution_count": null,
   "id": "c1b49d58",
   "metadata": {},
   "outputs": [],
   "source": [
    " # Check for Duplicated Values\n",
    "\n",
    "test.duplicated().sum()"
   ]
  },
  {
   "cell_type": "markdown",
   "id": "4fb548f3",
   "metadata": {},
   "source": [
    "# EDA"
   ]
  },
  {
   "cell_type": "code",
   "execution_count": null,
   "id": "6851b03c",
   "metadata": {},
   "outputs": [],
   "source": [
    "# transform all the text to lowercase\n",
    "test['text_lower'] = test['text'].str.lower()\n"
   ]
  },
  {
   "cell_type": "code",
   "execution_count": null,
   "id": "bf9dcf96",
   "metadata": {},
   "outputs": [],
   "source": [
    "# distribution of text lengths\n",
    "test['Text Length'] = test['text_lower'].apply(lambda x: len(x.split()))\n",
    "plt.hist(test['Text Length'], bins=20)\n",
    "plt.title('Distribution of Text Lengths')\n",
    "plt.xlabel('Text Length')\n",
    "plt.ylabel('Count')\n",
    "plt.show()"
   ]
  },
  {
   "cell_type": "code",
   "execution_count": null,
   "id": "3fb63bad",
   "metadata": {},
   "outputs": [],
   "source": [
    "from sklearn.feature_extraction.text import TfidfVectorizer\n",
    "from sklearn.naive_bayes import MultinomialNB\n",
    "from sklearn.linear_model import LogisticRegression\n",
    "from sklearn.model_selection import train_test_split\n",
    "from sklearn.metrics import accuracy_score\n",
    "from sklearn.metrics import accuracy_score, classification_report\n",
    "from sklearn.feature_extraction.text import TfidfVectorizer\n",
    "tf = TfidfVectorizer(max_features=3000)\n",
    "from sklearn.svm import SVC\n",
    "from sklearn.metrics import f1_score"
   ]
  },
  {
   "cell_type": "code",
   "execution_count": null,
   "id": "8208c662",
   "metadata": {},
   "outputs": [],
   "source": [
    "Xt = tf.fit_transform(test['text_lower']).toarray()\n",
    "\n",
    "Xt         "
   ]
  },
  {
   "cell_type": "code",
   "execution_count": null,
   "id": "f093c831",
   "metadata": {},
   "outputs": [],
   "source": [
    "from sklearn.preprocessing import LabelEncoder\n",
    "y = np.array(df_clean['lang_id_encoded'])\n",
    "\n",
    "y"
   ]
  },
  {
   "cell_type": "markdown",
   "id": "13ff421d",
   "metadata": {},
   "source": [
    "# model explanation"
   ]
  },
  {
   "cell_type": "markdown",
   "id": "97749d18",
   "metadata": {},
   "source": [
    "the naive bayes classifier is chosen as the best model because it is very good with identification and it has a very accuracy. accuracy for identification purposes is very important\n",
    "Furthermore, the naive bayes model is simple and efficient"
   ]
  },
  {
   "cell_type": "code",
   "execution_count": null,
   "id": "854717aa",
   "metadata": {},
   "outputs": [],
   "source": []
  }
 ],
 "metadata": {
  "kernelspec": {
   "display_name": "Python 3 (ipykernel)",
   "language": "python",
   "name": "python3"
  },
  "language_info": {
   "codemirror_mode": {
    "name": "ipython",
    "version": 3
   },
   "file_extension": ".py",
   "mimetype": "text/x-python",
   "name": "python",
   "nbconvert_exporter": "python",
   "pygments_lexer": "ipython3",
   "version": "3.10.9"
  }
 },
 "nbformat": 4,
 "nbformat_minor": 5
}
